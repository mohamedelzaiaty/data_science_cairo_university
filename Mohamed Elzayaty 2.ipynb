{
 "cells": [
  {
   "cell_type": "markdown",
   "metadata": {},
   "source": [
    "# Name : \n",
    "                Mohamed Mohamed mohamed mohamed Elzayaty\n",
    "                     Code : 12422022620514\n"
   ]
  },
  {
   "cell_type": "markdown",
   "metadata": {},
   "source": [
    "# Question 1: \n",
    "Write a python program to input an alphabet and check whether it is\n",
    "vowel or consonant. Note: Vowel alphabets are: {a, e, o, u, i}\n",
    "All other alphabets are consonant"
   ]
  },
  {
   "cell_type": "code",
   "execution_count": null,
   "metadata": {},
   "outputs": [],
   "source": [
    "alphabet=str(input(\"enter alphabet: \"))\n",
    "if alphabet in ('a', 'e', 'i', 'o', 'u'):\n",
    "    print(\"your alphabet is Vowel \")\n",
    "elif alphabet.isalpha():\n",
    "    print(\"your alphabet is consonant\")\n",
    "else:\n",
    "    if alphabet.strip().isdigit():\n",
    "        print(\"your entry not alphabet\")\n",
    "    else:\n",
    "        print(\"your entry not alphabe\")"
   ]
  },
  {
   "cell_type": "markdown",
   "metadata": {},
   "source": [
    "# Question 2:\n",
    "#Write a python program that prompts the user to input a number. Theprogram should then output this number and a message saying #whether it is even or odd\n",
    "#Code:"
   ]
  },
  {
   "cell_type": "code",
   "execution_count": null,
   "metadata": {},
   "outputs": [],
   "source": [
    "num = int(input(\"enter a nummber: \"))\n",
    "if (num % 2) == 0 and num>0:\n",
    "    print( str(num) +\" is even number\")\n",
    "elif  num != 0 and num<0:\n",
    "    print(str(num) +\" is less than 0\")\n",
    "else:\n",
    "    print( str(num) + \" is odd number\")"
   ]
  },
  {
   "cell_type": "markdown",
   "metadata": {},
   "source": [
    "# Question 3: \n",
    "#Write a python program to input a character from user and check whether\n",
    "#the given character is alphabet, digit or special character.\n",
    "#Code:"
   ]
  },
  {
   "cell_type": "code",
   "execution_count": null,
   "metadata": {},
   "outputs": [],
   "source": [
    "ch = input(\"Enter any character : \")\n",
    "if ch in (\"A\", \"a\", \"B\", \"b\", \",C\", \"c\", \"D\", \"d\", \"E\", \"e\", \"F\", \"f\", \"G\", \"g\", \"H\", \"h\", \"I\", \"i\", \"J\", \"j\", \"K\", \"k\", \"L\", \"l\", \"M\", \"m\", \"N\", \"n\", \"O\", \"o\", \"P\", \"p\", \"Q\", \"q\", \"R\", \"r\", \"S\", \"s\", \"T\", \"t\", \"U\",\"u\", \"V\", \"v\", \"W\", \"w\", \"X\", \"x\", \"Y\", \"y\", \"Z\", \"z\"):\n",
    "        print(str(ch), \" is alphabet\")\n",
    "elif ch in (\"0\", \"1\", \"2\", \"3\", \"4\", \"5\", \"6\", \"7\", \"8\", \"9\"):\n",
    "    print(\"\\n\" + str(ch) + \" is a digit.\")\n",
    "else :\n",
    "    print(\"\\n\" + str(ch) + \" is a special character \")"
   ]
  },
  {
   "cell_type": "markdown",
   "metadata": {},
   "source": [
    "# Question 4:\n",
    " Write a python program that prompts the user to input a number. The program should then output this number and a message saying whether it\n",
    " is positive, negative, or zero.\n",
    "Code:"
   ]
  },
  {
   "cell_type": "code",
   "execution_count": null,
   "metadata": {},
   "outputs": [],
   "source": [
    "num = int(input(\"enter a nummber: \"))\n",
    "if num > 0:\n",
    "    print( str(num) +\" is positive number\")\n",
    "elif  num<0:\n",
    "    print(str(num) +\" is negative number\")\n",
    "else:\n",
    "    print(str(num) + \" it is Zero\")"
   ]
  },
  {
   "cell_type": "markdown",
   "metadata": {},
   "source": [
    "# Question 5:\n",
    "#Write a python program of a four-function calculator. The program should ask the user to enter a number, an operator, and another number. It\n",
    " should then carry out the specified arithmetical operation: adding, subtracting, multiplying, or dividing the two numbers\n",
    "Code:"
   ]
  },
  {
   "cell_type": "code",
   "execution_count": null,
   "metadata": {},
   "outputs": [],
   "source": [
    "while True:\n",
    "    num1 = int(input(\"enter first nummber: \"))\n",
    "    num2 = int(input(\"enter second nummber: \"))\n",
    "    fun_calc= input(\"choose one of function calculator: '+' Or '-' Or '*' Or '/'\")\n",
    "    if fun_calc=='+': print(num1+num2)\n",
    "    elif fun_calc=='-': print(num1-num2)\n",
    "    elif fun_calc=='*':print(num1*num2)\n",
    "    elif fun_calc=='/':\n",
    "        if num2 !=0:\n",
    "            print(num1 / num2)\n",
    "        else:\n",
    "            print(\"ZeroDivisionError\")\n",
    "    else:\n",
    "        print(\"worng operator\")\n",
    "    c= input(\"enter (e) to exit or any key to continue\")\n",
    "    if c.lower() == 'e':\n",
    "        break"
   ]
  },
  {
   "cell_type": "markdown",
   "metadata": {},
   "source": [
    "# Question 6:\n",
    "#Write a python program that will prompt the user to input 5 integer values to be stored in a list\n",
    "Code:"
   ]
  },
  {
   "cell_type": "code",
   "execution_count": null,
   "metadata": {},
   "outputs": [],
   "source": [
    "values_list = []\n",
    "print(\"Choose 5 integer values :\") \n",
    "for i in range(5):\n",
    "    num = int( input(f\"integer value {i+1}: \") )\n",
    "    values_list.append(num)\n",
    "print(\"values list : \" + str(values_list))"
   ]
  },
  {
   "cell_type": "markdown",
   "metadata": {},
   "source": [
    "# Question 7:\n",
    "#Write a python program that print the values of a list.\n",
    "Code:"
   ]
  },
  {
   "cell_type": "code",
   "execution_count": null,
   "metadata": {},
   "outputs": [],
   "source": [
    "values_list = []\n",
    "print(\"Choose 5 integer values :\") \n",
    "for i in range(5):\n",
    "    num = int( input(f\"integer value {i+1}: \") )\n",
    "    values_list.append(num)\n",
    "print(\"values list : \" + str(values_list))"
   ]
  },
  {
   "cell_type": "markdown",
   "metadata": {},
   "source": [
    "# Question 8:\n",
    "#Write a python program that print the values of a list in a reverse order\n",
    "Code:"
   ]
  },
  {
   "cell_type": "code",
   "execution_count": null,
   "metadata": {},
   "outputs": [],
   "source": [
    "values_list = []\n",
    "print(\"Choose 5 integer values :\") \n",
    "for i in range(5):\n",
    "    num = int( input(f\"integer value {i+1}: \") )\n",
    "    values_list.append(num)\n",
    "print(\"values of original list : \" + str(values_list))\n",
    "print(\"values of reversed list : \" + str(list(reversed(values_list))))"
   ]
  },
  {
   "cell_type": "markdown",
   "metadata": {},
   "source": [
    "# Question 9:\n",
    "Write a python program that will prompt the user to input a list of 5 integer values. Then it print their summation and average.\n",
    "Code:"
   ]
  },
  {
   "cell_type": "code",
   "execution_count": null,
   "metadata": {},
   "outputs": [],
   "source": [
    "values_list = []\n",
    "print(\"Choose 5 integer values :\") \n",
    "for i in range(5):\n",
    "    num = int( input(f\"integer value {i+1}: \") )\n",
    "    values_list.append(num)\n",
    "values_summation = values_list[0]+values_list[1]+ values_list[2]+values_list[3]+values_list[4]\n",
    "values_average = values_summation/5\n",
    "print(\"Integer values summation : \" + str(values_summation))\n",
    "print(\"values average is: \" + str(values_average))"
   ]
  },
  {
   "cell_type": "markdown",
   "metadata": {},
   "source": [
    "# Question 10:\n",
    "Write a python program that will prompt the user to input a list of 5 integer values. Then it print the summation and average of its contained even numbers.\n",
    "Code:"
   ]
  },
  {
   "cell_type": "code",
   "execution_count": null,
   "metadata": {},
   "outputs": [],
   "source": [
    "values_list = []\n",
    "print(\"Choose 5 integer values :\") \n",
    "for i in range(5):\n",
    "    num = int( input(f\"integer value {i+1}: \") )\n",
    "    values_list.append(num)\n",
    "    \n",
    "even_num_list = [num for num in values_list if num % 2 == 0]\n",
    "print(\"Even numbers in the list: \", even_num_list)\n",
    "Sum = sum(even_num_list)\n",
    "\n",
    "if len(even_num_list) > 0:\n",
    "    Average = Sum / len(even_num_list)\n",
    "else:\n",
    "    Average = 0\n",
    "print(f\" User List even numbers Sum: {str(Sum)}\")\n",
    "print(f\" User List even numbers Average: {str(Average)}\" )"
   ]
  },
  {
   "cell_type": "markdown",
   "metadata": {},
   "source": [
    "# Question 11: #\n",
    "Write a python program that will prompt the user to input a list of 5 integer values. \n",
    "Then it print its maximum and minimum values. \n",
    "#Code:"
   ]
  },
  {
   "cell_type": "code",
   "execution_count": null,
   "metadata": {},
   "outputs": [],
   "source": [
    "values_list = []\n",
    "print(\"Choose 5 integer values :\") \n",
    "for i in range(5):\n",
    "    num = int( input(f\"integer value {i+1}: \") )\n",
    "    values_list.append(num)\n",
    "if len(values_list) > 0:\n",
    "    print(\" maximum value: \" + str(max(values_list)))\n",
    "    print(\" minimum value: \" + str(min(values_list)))\n",
    "\n"
   ]
  },
  {
   "cell_type": "markdown",
   "metadata": {},
   "source": [
    "# Question 12: \n",
    "Write a python program that will prompt the user to input a list of 5\n",
    "integer values. Then it ask the user to enter a number to check whether or\n",
    "not this number is found in the list or not\n",
    "Code:"
   ]
  },
  {
   "cell_type": "code",
   "execution_count": null,
   "metadata": {},
   "outputs": [],
   "source": [
    "values_list = []\n",
    "print(\"Choose 5 integer values :\") \n",
    "for i in range(5):\n",
    "    num = int( input(f\"integer value {i+1}: \") )\n",
    "    values_list.append(num)\n",
    "new_num = int(input(\"enter a nummber will tell in your list or not: \"))\n",
    "if new_num in values_list:\n",
    "    print(str(new_num) + \"the new number is one of your list\" )\n",
    "else:\n",
    "    print(str(new_num) + \"  the new number is not in your list\" )"
   ]
  },
  {
   "cell_type": "markdown",
   "metadata": {},
   "source": [
    "# Question 13: \n",
    "Write a python program that will prompt the user to input an index of a list to print its value. \n",
    "Code:"
   ]
  },
  {
   "cell_type": "code",
   "execution_count": null,
   "metadata": {},
   "outputs": [],
   "source": [
    "List1 = [10, 20, 30, 40, 50, 60]\n",
    "print(\" enter index number from 0 to 5 to show  value from provided list:\")\n",
    "num1 = int(input(\"integer value from 0 to 5: \"))\n",
    "user_index_value = List1[num1]\n",
    "print(str(user_index_value))"
   ]
  },
  {
   "cell_type": "markdown",
   "metadata": {},
   "source": [
    "# Question 14: \n",
    "Write a python program that will prompt the user to input a list of 5 integer values. \n",
    "Then it count the number of occurrence of the given number in such list. \n",
    "Code: "
   ]
  },
  {
   "cell_type": "code",
   "execution_count": null,
   "metadata": {},
   "outputs": [],
   "source": [
    "values_list = []\n",
    "print(\"Choose 5 integer values :\") \n",
    "for i in range(5):\n",
    "    num = int( input(f\"integer value {i+1}: \") )\n",
    "    values_list.append(num)\n",
    "new_num = int(input(\"enter value will check number of occurrence in your list: \"))\n",
    "occurrence=values_list.count(new_num)\n",
    "print(\"count number of occurrence in your list:\" + str(occurrence)) "
   ]
  },
  {
   "cell_type": "markdown",
   "metadata": {},
   "source": [
    "# Question 15:\n",
    "Write a python program that merge two lists.\n",
    "Code:"
   ]
  },
  {
   "cell_type": "code",
   "execution_count": null,
   "metadata": {},
   "outputs": [],
   "source": [
    "list1= [1, 2, 3]\n",
    "list2= [5, 6, 8]\n",
    "merged_lists= list1 + list2\n",
    "print(\"merged_lists: \" + str(merged_lists))"
   ]
  },
  {
   "cell_type": "markdown",
   "metadata": {},
   "source": [
    "# Question 16:\n",
    "Write a python program that will prompt the user to input a list of 5\n",
    "integer values. Then it splits the list into two lists; the first will contains\n",
    "even numbers while the other will contain odd numbers."
   ]
  },
  {
   "cell_type": "code",
   "execution_count": null,
   "metadata": {},
   "outputs": [],
   "source": [
    "values_list_even = []\n",
    "values_list_odd = []\n",
    "print(\"Choose 5 integer values :\") \n",
    "for i in range(5):\n",
    "    num = int( input(f\"integer value {i+1}: \") )\n",
    "    if num % 2 == 0:\n",
    "        values_list_even.append(num)\n",
    "    else:\n",
    "        values_list_odd.append(num)\n",
    "print(\"even_numbers_list: \" + str(values_list_even))\n",
    "print(\"odd_numbers_list: \" +str(values_list_odd))"
   ]
  },
  {
   "cell_type": "markdown",
   "metadata": {},
   "source": [
    "# Question 17:\n",
    "Write a python program that asks the user to enter an integer number then\n",
    "it prints its factorial\n",
    "Note: factorial(n) = n*(n-1)*(n-2)*(n-3)*(n-4).......*3*2*1"
   ]
  },
  {
   "cell_type": "code",
   "execution_count": null,
   "metadata": {},
   "outputs": [],
   "source": [
    "num = int(input(\"Enter a number: \"))\n",
    "fact = 1\n",
    "if num <= 0:\n",
    "    print(\"you entered negative number or Zero\")\n",
    "else:\n",
    "    for i in range(1, num+1):\n",
    "        fact = fact * i\n",
    "    print(\"factorial of\", num, \"is\", fact)\n",
    "        "
   ]
  },
  {
   "cell_type": "markdown",
   "metadata": {},
   "source": [
    "# Question 18:\n",
    "Write a python program that asks the user to enter two integer numbers, a\n",
    "and b, then it prints a power b\n",
    "Note: a power b= a *a *a .... ( b times)"
   ]
  },
  {
   "cell_type": "code",
   "execution_count": null,
   "metadata": {},
   "outputs": [],
   "source": [
    "\n",
    "a=  int(input(\"Enter a number1: \"))\n",
    "b=  int(input(\"Enter a number2: \"))\n",
    "calc_power = 1\n",
    "for b in range(b, 0, -1):\n",
    "    calc_power *=a\n",
    "# while b != 0:\n",
    "#     calc_power *= a\n",
    "#     b-=1\n",
    "\n",
    "print(\"Power is  \" + str(calc_power))"
   ]
  },
  {
   "cell_type": "code",
   "execution_count": null,
   "metadata": {},
   "outputs": [],
   "source": []
  }
 ],
 "metadata": {
  "kernelspec": {
   "display_name": "Python 3",
   "language": "python",
   "name": "python3"
  },
  "language_info": {
   "codemirror_mode": {
    "name": "ipython",
    "version": 3
   },
   "file_extension": ".py",
   "mimetype": "text/x-python",
   "name": "python",
   "nbconvert_exporter": "python",
   "pygments_lexer": "ipython3",
   "version": "3.8.5"
  },
  "vscode": {
   "interpreter": {
    "hash": "76f1b368583c5f1d2ea498985406a739155c1de7d1c9df6e0fb02ee95f9fb6f4"
   }
  }
 },
 "nbformat": 4,
 "nbformat_minor": 5
}
