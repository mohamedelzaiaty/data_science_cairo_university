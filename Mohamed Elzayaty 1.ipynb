{
 "cells": [
  {
   "cell_type": "markdown",
   "metadata": {},
   "source": [
    "# Name : \n",
    "                Mohamed Mohamed mohamed mohamed Elzayaty\n",
    "                     Code : 12422022620514\n"
   ]
  },
  {
   "cell_type": "markdown",
   "metadata": {},
   "source": [
    "# Question 1: \n",
    "Convert the following if-else statement to their equivalent short hand if else\n"
   ]
  },
  {
   "cell_type": "raw",
   "metadata": {},
   "source": [
    "a=500\n",
    "b=300\n",
    "if a==b:\n",
    "     print('a=b')\n",
    "elif a>50:\n",
    "    print('a>50 & a!=b')\n",
    " else:\n",
    "     print('a<=50 & a!=b')\n"
   ]
  },
  {
   "cell_type": "code",
   "execution_count": 16,
   "metadata": {},
   "outputs": [
    {
     "name": "stdout",
     "output_type": "stream",
     "text": [
      "a>50 & a!=b\n"
     ]
    }
   ],
   "source": [
    "\n",
    "a = 500\n",
    "b = 300\n",
    "print('a=b') if a==b else print('a>50 & a!=b') if a>50 else print('a<=50 & a!=b')\n",
    "\n",
    "\n",
    "\n"
   ]
  },
  {
   "cell_type": "markdown",
   "metadata": {},
   "source": [
    "# Question 2: \n",
    "Convert the following if-else statement to their equivalent short hand if else\n"
   ]
  },
  {
   "cell_type": "raw",
   "metadata": {},
   "source": [
    "i = 10\n",
    "if i < 15:\n",
    "    print(\"i is less than 15\")"
   ]
  },
  {
   "cell_type": "code",
   "execution_count": 17,
   "metadata": {},
   "outputs": [
    {
     "name": "stdout",
     "output_type": "stream",
     "text": [
      "i is less than 15\n"
     ]
    }
   ],
   "source": [
    "\n",
    "i = 10\n",
    "print(\"i is less than 15\") if i < 15 else print(\"i is greater than 15\")\n",
    "\n",
    "    "
   ]
  },
  {
   "cell_type": "markdown",
   "metadata": {},
   "source": [
    "# Question 3: \n",
    "Convert the following if-else statement to their equivalent short hand if else"
   ]
  },
  {
   "cell_type": "raw",
   "metadata": {},
   "source": [
    "i =10\n",
    "if i <15:\n",
    "    print(True)\n",
    "else:\n",
    "    print(False)"
   ]
  },
  {
   "cell_type": "code",
   "execution_count": 18,
   "metadata": {},
   "outputs": [
    {
     "name": "stdout",
     "output_type": "stream",
     "text": [
      "True\n"
     ]
    }
   ],
   "source": [
    "\n",
    "i =10\n",
    "print(True) if i <15 else print(False)"
   ]
  },
  {
   "cell_type": "markdown",
   "metadata": {},
   "source": [
    "# Question 4: \n",
    "Convert the following loops to its list comprehension form"
   ]
  },
  {
   "cell_type": "raw",
   "metadata": {},
   "source": [
    "x= [1,2,3,5,6]\n",
    "y=[]\n",
    "for i in range(len(x)):\n",
    "    y[i:]=[x[i]]\n",
    "print(y)"
   ]
  },
  {
   "cell_type": "code",
   "execution_count": 19,
   "metadata": {},
   "outputs": [
    {
     "name": "stdout",
     "output_type": "stream",
     "text": [
      "[1, 2, 3, 5, 6]\n"
     ]
    }
   ],
   "source": [
    "x= [1,2,3,5,6]\n",
    "y = [x[i] for i in range(len(x))]\n",
    "print(y)\n"
   ]
  },
  {
   "cell_type": "markdown",
   "metadata": {},
   "source": [
    "# Question 5: \n",
    "Convert the following loops to its list comprehension form"
   ]
  },
  {
   "cell_type": "raw",
   "metadata": {},
   "source": [
    "x= [1,2,3,5,6]\n",
    "y=['a', 'b', 'c', 'd', 'e']\n",
    "z=[]\n",
    "for i in range(len(x)):\n",
    "    for j in range(len(y)):\n",
    "        if i==j:\n",
    "           z[i:]=[(x[i], y[j])]\n",
    "print(z)\n"
   ]
  },
  {
   "cell_type": "code",
   "execution_count": 20,
   "metadata": {},
   "outputs": [
    {
     "name": "stdout",
     "output_type": "stream",
     "text": [
      "[(1, 'a'), (2, 'b'), (3, 'c'), (5, 'd'), (6, 'e')]\n"
     ]
    }
   ],
   "source": [
    "x= [1,2,3,5,6]\n",
    "y=['a', 'b', 'c', 'd', 'e']\n",
    "z = [(x[i], y[j]) for i in range(len(x)) for j in range(len(y)) if i==j]\n",
    "print(z)\n"
   ]
  },
  {
   "cell_type": "markdown",
   "metadata": {},
   "source": [
    "# Question 6: \n",
    "Convert the following loops to its list comprehension form"
   ]
  },
  {
   "cell_type": "raw",
   "metadata": {},
   "source": [
    "x= [1,2,3,5,6]\n",
    "y=['a', 'b', 'c', 'd', 'e']\n",
    "z=[]\n",
    "k=0\n",
    "for i in range(len(x)):\n",
    "    for j in range(len(y)):\n",
    "        if i==j:\n",
    "           z[k:]=[(x[i], y[j])]\n",
    "         else:\n",
    "             z[k:]=[(y[j], x[i])]\n",
    "         k=k+1\n",
    " print(z)"
   ]
  },
  {
   "cell_type": "code",
   "execution_count": 21,
   "metadata": {},
   "outputs": [
    {
     "name": "stdout",
     "output_type": "stream",
     "text": [
      "[(1, 'a'), ('b', 1), ('c', 1), ('d', 1), ('e', 1), ('a', 2), (2, 'b'), ('c', 2), ('d', 2), ('e', 2), ('a', 3), ('b', 3), (3, 'c'), ('d', 3), ('e', 3), ('a', 5), ('b', 5), ('c', 5), (5, 'd'), ('e', 5), ('a', 6), ('b', 6), ('c', 6), ('d', 6), (6, 'e')]\n"
     ]
    }
   ],
   "source": [
    "x= [1,2,3,5,6]\n",
    "y=['a', 'b', 'c', 'd', 'e']\n",
    "z = [(x[i], y[j]) if i==j else (y[j], x[i]) for i in range(len(x)) for j in range(len(y))]\n",
    "print(z)"
   ]
  },
  {
   "cell_type": "markdown",
   "metadata": {},
   "source": [
    "# Question 7: \n",
    "Convert the following loops to its list comprehension form"
   ]
  },
  {
   "cell_type": "raw",
   "metadata": {},
   "source": [
    "x= [1,2,3,5,6]\n",
    "y=['a', 'b', 'c', 'd', 'e']\n",
    "z=[]\n",
    "k=0\n",
    "for i in range(len(x)):\n",
    "    for j in range(len(y)):\n",
    "        if i==j:\n",
    "            z[k:]=[(x[i], y[j])]\n",
    "        elif i==2:\n",
    "            z[k:]= [(2 , 2)]\n",
    "         else:\n",
    "             z[k:]=[(y[j], x[i])]\n",
    "        k=k+1\n",
    "print(z)"
   ]
  },
  {
   "cell_type": "code",
   "execution_count": 22,
   "metadata": {},
   "outputs": [
    {
     "name": "stdout",
     "output_type": "stream",
     "text": [
      "[(1, 'a'), ('b', 1), ('c', 1), ('d', 1), ('e', 1), ('a', 2), (2, 'b'), ('c', 2), ('d', 2), ('e', 2), (2, 2), (2, 2), (3, 'c'), (2, 2), (2, 2), ('a', 5), ('b', 5), ('c', 5), (5, 'd'), ('e', 5), ('a', 6), ('b', 6), ('c', 6), ('d', 6), (6, 'e')]\n"
     ]
    }
   ],
   "source": [
    "x= [1,2,3,5,6]\n",
    "y=['a', 'b', 'c', 'd', 'e']\n",
    "z = [(x[i], y[j]) if i==j else (2,2) if i==2 else (y[j], x[i]) for i in range(len(x)) for j in range(len(y))]\n",
    "print(z)"
   ]
  },
  {
   "cell_type": "markdown",
   "metadata": {},
   "source": [
    "# Question 8: \n",
    "Convert the following loops to its list comprehension form"
   ]
  },
  {
   "cell_type": "raw",
   "metadata": {},
   "source": [
    "x= [[1,2,3], [4,5,6], [7,8,9], [10,11,12]]\n",
    "y=[]\n",
    "for i in range(len(x)):\n",
    "z=[]\n",
    "for j in range(len(x[i])):\n",
    "      z[j:]=[(x[i][j])]\n",
    "    y[i:]=[z]\n",
    "print(y)"
   ]
  },
  {
   "cell_type": "code",
   "execution_count": 8,
   "metadata": {},
   "outputs": [
    {
     "name": "stdout",
     "output_type": "stream",
     "text": [
      "[[1, 2, 3], [4, 5, 6], [7, 8, 9], [10, 11, 12]]\n"
     ]
    }
   ],
   "source": [
    "x= [[1,2,3], [4,5,6], [7,8,9], [10,11,12]]\n",
    "y = [[x[i][j] for j in range(len(x[i]))] for i in range(len(x))]\n",
    "print(y)"
   ]
  },
  {
   "cell_type": "markdown",
   "metadata": {},
   "source": [
    "# Question 9: \n",
    "What is the output of the following"
   ]
  },
  {
   "cell_type": "raw",
   "metadata": {},
   "source": [
    "x=[1,2,3,5,6]\n",
    "y=[x[i] for i in range(len(x))]\n",
    "print(y)\n"
   ]
  },
  {
   "cell_type": "raw",
   "metadata": {},
   "source": [
    "[1, 2, 3, 5, 6]"
   ]
  },
  {
   "cell_type": "markdown",
   "metadata": {},
   "source": [
    "# Question 10: \n",
    "What is the output of the following"
   ]
  },
  {
   "cell_type": "raw",
   "metadata": {},
   "source": [
    "x=[1,2,3,5,6]\n",
    "y=['a', 'b', 'c', 'd', 'e']\n",
    "z=[(x[i], y[j]) for i in range(len(x)) for j in range(len(y)) if i ==j]\n",
    "print(z)"
   ]
  },
  {
   "cell_type": "raw",
   "metadata": {},
   "source": [
    "[1, 2, 3, 5, 6]"
   ]
  }
 ],
 "metadata": {
  "kernelspec": {
   "display_name": "Python 3",
   "language": "python",
   "name": "python3"
  },
  "language_info": {
   "codemirror_mode": {
    "name": "ipython",
    "version": 3
   },
   "file_extension": ".py",
   "mimetype": "text/x-python",
   "name": "python",
   "nbconvert_exporter": "python",
   "pygments_lexer": "ipython3",
   "version": "3.8.5"
  },
  "vscode": {
   "interpreter": {
    "hash": "76f1b368583c5f1d2ea498985406a739155c1de7d1c9df6e0fb02ee95f9fb6f4"
   }
  }
 },
 "nbformat": 4,
 "nbformat_minor": 5
}
